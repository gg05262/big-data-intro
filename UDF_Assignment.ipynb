{
 "cells": [
  {
   "cell_type": "markdown",
   "id": "324ce45c-b192-41c9-9022-fcfa5be8955c",
   "metadata": {},
   "source": [
    "[과제: udf 등록 및 SQL 처리]\n",
    "UDF 함수명: age_category(age)\n",
    "- age가 35살 미만: 'young'\n",
    "- age가 35살-59살: 'adult'\n",
    "- age가 60살 이상: 'senior'\n",
    "\n",
    "데이터프레임\n",
    "- 변수: name, age (예: '안현', 39)\n",
    "- 데이터 5개~10개 생성 \n",
    "\n",
    "SQL 출력 결과: name, age_category(age)"
   ]
  },
  {
   "cell_type": "code",
   "execution_count": 1,
   "id": "5c07cdcd-10eb-4abd-8777-2e4fdfa59cdb",
   "metadata": {},
   "outputs": [],
   "source": [
    "from pyspark.sql import SparkSession\n",
    "spark =SparkSession.builder.master('local').appName('udf_assignment').getOrCreate()"
   ]
  },
  {
   "cell_type": "code",
   "execution_count": 2,
   "id": "5ca0de92-53bd-4513-b3b0-4bab15ecb0e2",
   "metadata": {},
   "outputs": [],
   "source": [
    "student =[\n",
    "    ('John Smith', '25'),\n",
    "    ('Emily Johnson', '42'),\n",
    "    ('David Brown', '19'),\n",
    "    ('Sarah Davis', '35'),\n",
    "    ('Michael Wilson', '58'),\n",
    "    ('Jennifer Thompson', '31'),\n",
    "    ('Christopher Martinez', '47'),\n",
    "    ('Amanda Taylor', '22'),\n",
    "    ('Matthew Anderson', '39'),\n",
    "    ('Olivia Harris', '64')]"
   ]
  },
  {
   "cell_type": "code",
   "execution_count": 3,
   "id": "5bee69c7-0f21-4067-858e-ff22d6ece44d",
   "metadata": {},
   "outputs": [],
   "source": [
    "schema =['name','age']"
   ]
  },
  {
   "cell_type": "code",
   "execution_count": 4,
   "id": "4f07684d-bfdb-4e2f-b22c-0b70d1bfbbd8",
   "metadata": {},
   "outputs": [],
   "source": [
    "df = spark.createDataFrame(student, schema)"
   ]
  },
  {
   "cell_type": "code",
   "execution_count": 5,
   "id": "a50d5019-d965-49b9-8bd9-14d9e5a07091",
   "metadata": {},
   "outputs": [
    {
     "name": "stdout",
     "output_type": "stream",
     "text": [
      "+--------------------+---+\n",
      "|                name|age|\n",
      "+--------------------+---+\n",
      "|          John Smith| 25|\n",
      "|       Emily Johnson| 42|\n",
      "|         David Brown| 19|\n",
      "|         Sarah Davis| 35|\n",
      "|      Michael Wilson| 58|\n",
      "|   Jennifer Thompson| 31|\n",
      "|Christopher Martinez| 47|\n",
      "|       Amanda Taylor| 22|\n",
      "|    Matthew Anderson| 39|\n",
      "|       Olivia Harris| 64|\n",
      "+--------------------+---+\n",
      "\n"
     ]
    }
   ],
   "source": [
    "df.show()"
   ]
  },
  {
   "cell_type": "code",
   "execution_count": 6,
   "id": "927a8a63-dade-4223-848f-a646b32b60f1",
   "metadata": {},
   "outputs": [
    {
     "name": "stdout",
     "output_type": "stream",
     "text": [
      "root\n",
      " |-- name: string (nullable = true)\n",
      " |-- age: string (nullable = true)\n",
      "\n"
     ]
    }
   ],
   "source": [
    "df.printSchema()"
   ]
  },
  {
   "cell_type": "code",
   "execution_count": 7,
   "id": "0f892c5e-f0b5-49b7-98e2-1d60e1f3a142",
   "metadata": {},
   "outputs": [],
   "source": [
    "df.createOrReplaceTempView('student')"
   ]
  },
  {
   "cell_type": "code",
   "execution_count": 8,
   "id": "3a2d42cb-2836-4b33-be1e-aa3ba39a68b0",
   "metadata": {},
   "outputs": [],
   "source": [
    "def age_category(age):\n",
    "    if 0<=int(age)<35:\n",
    "        return 'young'\n",
    "    elif int(age) <60:\n",
    "        return 'adult'\n",
    "    elif int(age) >=60:\n",
    "        return 'senior'\n",
    "    else: \n",
    "        return 'error'\n",
    "                            "
   ]
  },
  {
   "cell_type": "code",
   "execution_count": 9,
   "id": "2d24c9b2-3d93-4267-b85a-961dfb0433cc",
   "metadata": {},
   "outputs": [],
   "source": [
    "from pyspark.sql.functions import udf"
   ]
  },
  {
   "cell_type": "code",
   "execution_count": 10,
   "id": "01eba7bc-e484-4d12-be7d-8b50eeeceed3",
   "metadata": {},
   "outputs": [
    {
     "data": {
      "text/plain": [
       "<function __main__.age_category(age)>"
      ]
     },
     "execution_count": 10,
     "metadata": {},
     "output_type": "execute_result"
    }
   ],
   "source": [
    "spark.udf.register('age_category', age_category)"
   ]
  },
  {
   "cell_type": "code",
   "execution_count": 11,
   "id": "4876579b-658a-4401-890c-21749a86a75e",
   "metadata": {},
   "outputs": [
    {
     "name": "stdout",
     "output_type": "stream",
     "text": [
      "+--------------------+------------+\n",
      "|                name|age_category|\n",
      "+--------------------+------------+\n",
      "|          John Smith|       young|\n",
      "|       Emily Johnson|       adult|\n",
      "|         David Brown|       young|\n",
      "|         Sarah Davis|       adult|\n",
      "|      Michael Wilson|       adult|\n",
      "|   Jennifer Thompson|       young|\n",
      "|Christopher Martinez|       adult|\n",
      "|       Amanda Taylor|       young|\n",
      "|    Matthew Anderson|       adult|\n",
      "|       Olivia Harris|      senior|\n",
      "+--------------------+------------+\n",
      "\n"
     ]
    }
   ],
   "source": [
    "spark.sql(\"SELECT name, age_category(age) AS age_category FROM student\").show()"
   ]
  },
  {
   "cell_type": "code",
   "execution_count": null,
   "id": "88069b1f-eb92-418b-9b1a-d629fae598f2",
   "metadata": {},
   "outputs": [],
   "source": []
  }
 ],
 "metadata": {
  "kernelspec": {
   "display_name": "Python 3 (ipykernel)",
   "language": "python",
   "name": "python3"
  },
  "language_info": {
   "codemirror_mode": {
    "name": "ipython",
    "version": 3
   },
   "file_extension": ".py",
   "mimetype": "text/x-python",
   "name": "python",
   "nbconvert_exporter": "python",
   "pygments_lexer": "ipython3",
   "version": "3.9.13"
  }
 },
 "nbformat": 4,
 "nbformat_minor": 5
}
